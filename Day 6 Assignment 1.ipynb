{
 "cells": [
  {
   "cell_type": "markdown",
   "metadata": {},
   "source": [
    "# Assignment 1"
   ]
  },
  {
   "cell_type": "code",
   "execution_count": 3,
   "metadata": {},
   "outputs": [
    {
     "name": "stdout",
     "output_type": "stream",
     "text": [
      "File is opened is another mode\n",
      "I will always be there\n"
     ]
    }
   ],
   "source": [
    "# ERROR HANDLING\n",
    "#The try block lets you test a block of code for errors.\n",
    "try:\n",
    "    file=open(\"class.txt\",\"r\")\n",
    "    file.write(\"Hi all present in class\")\n",
    "    file.close()\n",
    "#The except block lets you handle the error.    \n",
    "except OSError:\n",
    "    print(\"File is opened is another mode\")\n",
    "    \n",
    "#The finally block lets you execute code, regardless of the result of the try- and except blocks.\n",
    "finally:\n",
    "    print(\"I will always be there\")\n"
   ]
  },
  {
   "attachments": {},
   "cell_type": "markdown",
   "metadata": {},
   "source": []
  }
 ],
 "metadata": {
  "kernelspec": {
   "display_name": "Python 3",
   "language": "python",
   "name": "python3"
  },
  "language_info": {
   "codemirror_mode": {
    "name": "ipython",
    "version": 3
   },
   "file_extension": ".py",
   "mimetype": "text/x-python",
   "name": "python",
   "nbconvert_exporter": "python",
   "pygments_lexer": "ipython3",
   "version": "3.7.3"
  }
 },
 "nbformat": 4,
 "nbformat_minor": 2
}
